{
  "nbformat": 4,
  "nbformat_minor": 0,
  "metadata": {
    "colab": {
      "provenance": []
    },
    "kernelspec": {
      "name": "python3",
      "display_name": "Python 3"
    },
    "language_info": {
      "name": "python"
    }
  },
  "cells": [
    {
      "cell_type": "markdown",
      "source": [
        "# **FILES, EXCEPTIONAL HANDLING, LOGGING AND MEMORY MANAGEMENT QUESTIONS**"
      ],
      "metadata": {
        "id": "C6vlQMXUAmJP"
      }
    },
    {
      "cell_type": "markdown",
      "source": [
        "### Q1. What is the difference between interpreted and compiled languages?"
      ],
      "metadata": {
        "id": "YsFP2RMlAnb_"
      }
    },
    {
      "cell_type": "markdown",
      "source": [
        "ANS 1.\n",
        "\n",
        "The main difference between interpreted and compiled languages lies in how they are executed by a computer.\n",
        "\n",
        "1. **Interpreted Language**:\n",
        "\n",
        "- Code is executed line by line by an interpreter.\n",
        "\n",
        "- Slower execution since translation happens at runtime.\n",
        "\n",
        "- Easier debugging as errors are detected during execution.\n",
        "\n",
        "- More flexible and platform-independent (e.g., Python, JavaScript, Ruby).\n",
        "\n",
        "2. **Compiled Language**:\n",
        "- Code is translated entirely into machine code before execution.\n",
        "\n",
        "- Faster execution since no real-time translation is needed.\n",
        "\n",
        "- Debugging can be harder as errors appear after compilation.\n",
        "\n",
        "- Often platform-dependent but can be optimized for performance (e.g., C, C++, Rust).\n",
        "\n",
        "Some languages, like Java, use a mix of both (compiled to bytecode, then interpreted by the JVM)."
      ],
      "metadata": {
        "id": "37t9lZxxAnQf"
      }
    },
    {
      "cell_type": "markdown",
      "source": [
        "### Q2. What is exception handling in Python?"
      ],
      "metadata": {
        "id": "vqpqWbvRAnT3"
      }
    },
    {
      "cell_type": "markdown",
      "source": [
        "ANS 2.\n",
        "\n",
        "- **Exception Handling in Python**: Exception handling in Python is a mechanism that allows a program to handle runtime errors gracefully instead of crashing. It uses `try`, `except`, `else` and `finally` blocks to catch and manage exceptions.\n",
        "\n",
        "- **Key Components of Exception Handling**:\n",
        "1. `try` block - Contains the code that may raise an exception.\n",
        "2. `except` block - Handles the exception if one occurs.\n",
        "\n",
        "3. `else` block (optional) - Executes if no exception occurs.\n",
        "4. `finally` block (optional) - Always executes, whether an exception occurs or not.\n",
        "\n",
        "- **Example**: Handling Division by Zero\n",
        "\n",
        "  ```\n",
        "try:\n",
        "    a = 98\n",
        "    b = 0\n",
        "    result = a / b\n",
        "    print(\"Result:\", result)\n",
        "except ZeroDivisionError as e:\n",
        "    print(e)\n",
        "finally:\n",
        "    print(\"Execution completed.\")\n",
        "  ```\n",
        "  \n",
        "  OUTPUT:\n",
        "  ```\n",
        "division by zero\n",
        "Execution completed.\n",
        "  ```\n",
        "- **Common Exceptions in Python**:\n",
        " - ZeroDivisionError - Division by zero\n",
        " - ValueError - Invalid input (e.g., entering a string instead of a number)\n",
        " - TypeError - Incompatible operation between data types\n",
        " - FileNotFoundError - Trying to access a file that doesn't exist"
      ],
      "metadata": {
        "id": "HW3Y-vCHAnXH"
      }
    },
    {
      "cell_type": "markdown",
      "source": [
        "### Q3. What is the purpose of the finally block in exception handling?\n"
      ],
      "metadata": {
        "id": "XOXV9WgaAnk4"
      }
    },
    {
      "cell_type": "markdown",
      "source": [
        "ANS 3.\n",
        "\n",
        "- **Purpose of the `finally` Block in Python Exception Handling**:\n",
        "The `finally` block in Python is used to execute code regardless of whether an exception occurs or not. It ensures that certain actions, like closing files or releasing resources, are always performed, even if an error happens.\n",
        "\n",
        "- **Key Features of the `finally` Block**:\n",
        "  - Always Executes - Runs whether an exception is raised or not.\n",
        "  - Used for Cleanup - Ideal for releasing resources like closing files, network connections, or database connections.\n",
        "  - Ensures Stability - Prevents resource leaks and keeps the program stable.\n",
        "\n",
        "- **Example**: `finally` runs even with an exception\n",
        "\n",
        "  ```\n",
        "try:\n",
        "    num = int(input(\"Enter a number: \"))\n",
        "    result = 10 / num\n",
        "except ZeroDivisionError:\n",
        "    print(\"Cannot divide by zero!\")\n",
        "finally:\n",
        "    print(\"This always runs, regardless of errors.\")\n",
        "  ```\n",
        "  \n",
        "  OUTPUT:\n",
        "\n",
        "  ```\n",
        "Enter a number: 0\n",
        "Cannot divide by zero!\n",
        "This always runs, regardless of errors.\n",
        "```"
      ],
      "metadata": {
        "id": "UIP-z7JBAnnf"
      }
    },
    {
      "cell_type": "markdown",
      "source": [
        "### Q4. What is logging in Python?"
      ],
      "metadata": {
        "id": "a3B6Tf3LTt5A"
      }
    },
    {
      "cell_type": "markdown",
      "source": [
        "ANS 4.\n",
        "\n",
        "Logging in Python is a way to track events that happen during program execution. It helps in debugging, monitoring, and recording important runtime information. The logging module in Python provides a flexible framework to log messages with different severity levels.\n",
        "\n",
        "- Example:\n",
        "\n",
        "  ```\n",
        "import logging\n",
        "logging.basicConfig(level=logging.WARNING)  # Set logging level\n",
        "logging.warning(\"This is a warning message\")\n",
        "logging.error(\"This is an error message\")\n",
        "  ```\n",
        "  \n",
        "  OUTPUT:\n",
        "\n",
        "  ```\n",
        "WARNING:root:This is a warning message\n",
        "ERROR:root:This is an error message\n",
        "  ```"
      ],
      "metadata": {
        "id": "bmg-TfzxTLF7"
      }
    },
    {
      "cell_type": "markdown",
      "source": [
        "### Q5. What is the significance of the `__del__` method in Python?"
      ],
      "metadata": {
        "id": "6yOvrX6tXfK_"
      }
    },
    {
      "cell_type": "markdown",
      "source": [
        "ANS 5.\n",
        "\n",
        "The `__del__` method in Python is a destructor that is called when an object is about to be destroyed (i.e., when it is no longer referenced). It is primarily used for cleaning up resources like closing database connections, releasing memory, or deleting temporary files.\n",
        "\n",
        "- Example:\n",
        "  ```\n",
        "  class Example:\n",
        "    def __init__(self, name):\n",
        "        self.name = name\n",
        "        print(f\"Object {self.name} created.\")\n",
        "\n",
        "    def __del__(self):\n",
        "        print(f\"Object {self.name} destroyed.\")\n",
        "  #Creating and deleting an object\n",
        "  obj = Example(\"A\")\n",
        "  del obj  # Explicitly deleting the object\n",
        "  ```\n",
        "\n",
        "  OUTPUT:\n",
        "  \n",
        "  ```\n",
        "Object A created.\n",
        "Object A destroyed.\n",
        "  ```"
      ],
      "metadata": {
        "id": "JmMimCD4XfiH"
      }
    },
    {
      "cell_type": "markdown",
      "source": [
        "### Q6. What is the difference between import and from ... import in Python?"
      ],
      "metadata": {
        "id": "P82SSK0lb3oF"
      }
    },
    {
      "cell_type": "markdown",
      "source": [
        "ANS 6.\n",
        "\n",
        "Python provides two main ways to import modules:\n",
        "- `import module_name`\n",
        "- `from module_name import specific_function/class/variable`\n",
        "\n",
        "1. `import module_name`\n",
        "- Imports the entire module.\n",
        "\n",
        "- We must use the module name as a prefix to access its functions, classes, or variables.\n",
        "\n",
        "- Prevents namespace conflicts since everything is inside the module.\n",
        "\n",
        "- Example:\n",
        "  ```\n",
        "  import math\n",
        "  \n",
        "  print(math.sqrt(16))  #Accessing sqrt() via module name\n",
        "  ```\n",
        "  \n",
        "  OUTPUT:\n",
        "  ```\n",
        "  4.0\n",
        "  ```\n",
        "  \n",
        "2. `from module_name import specific_name`\n",
        "- Imports only a specific function, class, or variable from the module.\n",
        "\n",
        "- We can use it directly without the module prefix.\n",
        "\n",
        "- Can lead to namespace conflicts if the imported name clashes with an existing name.\n",
        "\n",
        "- Example:\n",
        "  ```\n",
        "  from math import sqrt\n",
        "  print(sqrt(16))  # No need for math.sqrt()\n",
        "  ```\n",
        "\n",
        "  OUTPUT:\n",
        "  ```\n",
        "  4.0\n",
        "  ```"
      ],
      "metadata": {
        "id": "j4q7FD_Lb32E"
      }
    },
    {
      "cell_type": "markdown",
      "source": [
        "### Q7.  How can you handle multiple exceptions in Python?"
      ],
      "metadata": {
        "id": "NNnXhbadb38d"
      }
    },
    {
      "cell_type": "markdown",
      "source": [
        "ANS 7.\n",
        "\n",
        "In Python, we can handle multiple exceptions using different techniques based on our needs.\n",
        "\n",
        "1. **Using Multiple `except` Blocks**: We can catch different exceptions separately and handle them with specific actions.\n",
        "\n",
        " ```\n",
        "try:\n",
        "    a = int(input(\"Enter a number: \"))\n",
        "    b = int(input(\"Enter another number: \"))\n",
        "    result = a / b\n",
        "    print(\"Result:\", result)\n",
        "except ZeroDivisionError:\n",
        "    print(\"Error: Cannot divide by zero!\")\n",
        "except ValueError:\n",
        "    print(\"Error: Invalid input! Please enter numbers.\")\n",
        "except Exception as e:\n",
        "    print(f\"An unexpected error occurred: {e}\")\n",
        " ```\n",
        "\n",
        " OUTPUT:\n",
        " ```\n",
        "Enter a number: 2\n",
        "Enter another number: j\n",
        "Error: Invalid input! Please enter numbers.\n",
        "\n",
        " ```\n",
        "- This approach allows customized handling for each exception.\n",
        "\n",
        "2. **Catching Multiple Exceptions in One `except` Block**:\n",
        "We can group multiple exceptions in a single except block using a tuple.\n",
        "\n",
        " ```\n",
        "try:\n",
        "    num = int(input(\"Enter a number: \"))\n",
        "    result = 10 / num\n",
        "except (ZeroDivisionError, ValueError) as e:\n",
        "    print(f\"Error: {e}\")\n",
        " ```\n",
        "\n",
        " OUTPUT:\n",
        "\n",
        " ```\n",
        "Enter a number: 0\n",
        "Error: division by zero\n",
        " ```\n",
        "- This is useful when multiple exceptions require the same handling.\n",
        "\n",
        "3. **Using `except` Exception for Catching All Errors**: We can catch any exception (including unknown ones) using except Exception.\n",
        "\n",
        " ```\n",
        "try:\n",
        "    file = open(\"nonexistent.txt\", \"r\")  # Trying to open a missing file\n",
        "except Exception as e:\n",
        "    print(f\"An error occurred: {e}\")\n",
        " ```\n",
        "\n",
        " OUTPUT:\n",
        " ```\n",
        "An error occurred: [Errno 2] No such file or directory: 'nonexistent.txt'\n",
        " ```\n",
        "- Useful for logging or debugging, but not recommended for general use, as it hides specific errors.\n",
        "\n"
      ],
      "metadata": {
        "id": "LhoUzfYYb4BU"
      }
    },
    {
      "cell_type": "markdown",
      "source": [
        "### Q8. What is the purpose of the `with` statement when handling files in Python?"
      ],
      "metadata": {
        "id": "QSwmQP5Cb4D8"
      }
    },
    {
      "cell_type": "markdown",
      "source": [
        "ANS 8.\n",
        "\n",
        "The `with` statement in Python is used to manage resources efficiently, particularly when working with files. It automatically handles file closing, even if an error occurs, making the code cleaner and safer.\n",
        "\n",
        "- **Without `with` (Manual Closing Required)**:\n",
        "\n",
        " ```\n",
        "file = open(\"example.txt\", \"r\")  \n",
        "content = file.read()  \n",
        "print(content)  \n",
        "file.close()  # Must manually close the file\n",
        " ```  \n",
        " - If an error occurs before file.close(), the file remains open, causing resource leaks.\n",
        "\n",
        "- **With `with` (Automatic Closing)**:\n",
        "\n",
        " ```\n",
        "with open(\"example.txt\", \"r\") as file:  \n",
        "    content = file.read()  \n",
        "    print(content)\n",
        " # File is automatically closed when the block exits  \n",
        " ```\n",
        " - No need to manually close the file—Python does it automatically!\n",
        "\n",
        "\n",
        "- **Example**: Writing to a File Using `with`\n",
        "\n",
        " ```\n",
        "with open(\"output.txt\", \"w\") as file:  \n",
        "    file.write(\"Hello, Python!\")  \n",
        "# No need to call file.close()  \n",
        " ```"
      ],
      "metadata": {
        "id": "AnG5j6a3b4JM"
      }
    },
    {
      "cell_type": "markdown",
      "source": [
        "### Q9. What is the difference between multithreading and multiprocessing?"
      ],
      "metadata": {
        "id": "zsd0VTs9b4Ls"
      }
    },
    {
      "cell_type": "markdown",
      "source": [
        "ANS 9.\n",
        "\n",
        "1. **Multithreading**:\n",
        "\n",
        "- Uses threads (lightweight, share memory).\n",
        "\n",
        "- Best for I/O-bound tasks (e.g., file operations, network requests).\n",
        "\n",
        "- Limited by Global Interpreter Lock (GIL) in Python (only one thread executes Python bytecode at a time).\n",
        "\n",
        "- Uses the threading module.\n",
        "\n",
        "- Example:\n",
        "\n",
        "```\n",
        "import threading\n",
        "\n",
        "def print_numbers():\n",
        "    for i in range(5):\n",
        "        print(i)\n",
        "\n",
        "t1 = threading.Thread(target=print_numbers)\n",
        "t2 = threading.Thread(target=print_numbers)\n",
        "\n",
        "t1.start()\n",
        "t2.start()\n",
        "\n",
        "t1.join()\n",
        "t2.join()\n",
        "```\n",
        "\n",
        "OUTPUT:\n",
        "\n",
        "```\n",
        "0\n",
        "1\n",
        "2\n",
        "3\n",
        "0\n",
        "1\n",
        "4\n",
        "2\n",
        "3\n",
        "4\n",
        "```\n",
        "\n",
        "- Best for: Web scraping, downloading files, database queries.\n",
        "\n",
        "2. **Multiprocessing**:\n",
        "\n",
        "- Uses multiple processes (each with its own memory space).\n",
        "\n",
        "- Best for CPU-bound tasks (e.g., mathematical\n",
        "computations, data processing).\n",
        "\n",
        "- Bypasses GIL, allowing true parallel execution.\n",
        "\n",
        "- Uses the multiprocessing module.\n",
        "\n",
        "- Example:\n",
        "\n",
        "```\n",
        "import multiprocessing\n",
        "\n",
        "def print_numbers():\n",
        "    for i in range(5):\n",
        "        print(i)\n",
        "\n",
        "p1 = multiprocessing.Process(target=print_numbers)\n",
        "p2 = multiprocessing.Process(target=print_numbers)\n",
        "\n",
        "p1.start()\n",
        "p2.start()\n",
        "\n",
        "p1.join()\n",
        "p2.join()\n",
        "```\n",
        "\n",
        "OUTPUT:\n",
        "```\n",
        "0\n",
        "1\n",
        "2\n",
        "3\n",
        "4\n",
        "0\n",
        "1\n",
        "2\n",
        "3\n",
        "4\n",
        "```\n",
        "\n",
        "- Best for: Machine learning, image processing, scientific calculations.\n"
      ],
      "metadata": {
        "id": "k9Eo4PQdb4Qs"
      }
    },
    {
      "cell_type": "markdown",
      "source": [
        "### Q10. What are the advantages of using logging in a program?"
      ],
      "metadata": {
        "id": "iiy9Bnqpb4Tl"
      }
    },
    {
      "cell_type": "markdown",
      "source": [
        "ANS 10.\n",
        "\n",
        "**Key Advantages of Logging**:\n",
        "\n",
        "1. **Debugging**: Helps in identifying and diagnosing errors without stopping the program.\n",
        "Unlike `print()`, logs provide more structured debugging.\n",
        "\n",
        "2. **Different Log Levels for Better Insights**: Allows categorization of logs by importance (DEBUG, INFO, WARNING, ERROR, CRITICAL).\n",
        "\n",
        "- Example:\n",
        "\n",
        " ```\n",
        "import logging\n",
        "logging.basicConfig(level=logging.DEBUG)\n",
        "logging.debug(\"This is a debug message\")\n",
        "logging.info(\"This is an info message\")\n",
        "logging.warning(\"This is a warning\")\n",
        "logging.error(\"This is an error\")\n",
        "logging.critical(\"This is critical\")\n",
        "```\n",
        "\n",
        "3. **Persistent Record Keeping**:\n",
        "- Logs can be saved to files for future analysis.\n",
        "- Helps track application performance and historical data.\n",
        "- Example:\n",
        "\n",
        " ```\n",
        "import logging\n",
        "logging.basicConfig(filename=\"app.log\", level=logging.INFO, format=\"%(asctime)s - %(levelname)s - %(message)s\")\n",
        "logging.info(\"Application started\")\n",
        "```\n",
        "\n",
        "4. **Better Than print()**:\n",
        "\n",
        "- `print()` is temporary and requires manual removal; logs are permanent and structured.\n",
        "- Can be filtered, formatted, and stored efficiently."
      ],
      "metadata": {
        "id": "MEok8SUMb4Y0"
      }
    },
    {
      "cell_type": "markdown",
      "source": [
        "### Q11. What is memory management in Python?"
      ],
      "metadata": {
        "id": "JDL3PQtTb4bs"
      }
    },
    {
      "cell_type": "markdown",
      "source": [
        "ANS 11.\n",
        "\n",
        "Memory management in Python is the process of efficiently allocating, using, and freeing memory to ensure smooth program execution. Python automatically handles memory management using dynamic memory allocation and garbage collection.\n",
        "\n",
        "**Key Components of Python Memory Management**:\n",
        "\n",
        "1. **Memory Allocation in Python**: Python divides memory into three main areas:\n",
        "\n",
        "- Stack Memory - Stores function calls, local variables, and control flow.\n",
        "- Heap Memory - Stores dynamically allocated objects and data structures.\n",
        "- Python Memory Manager - Handles memory allocation for objects and data structures.\n",
        "- Example:\n",
        "  ```\n",
        "  x = 10  # Allocated in stack\n",
        "  lst = [1, 2, 3]  # Stored in heap\n",
        "  ```\n",
        "\n",
        "2. **Memory Optimization Techniques**:\n",
        "\n",
        "- Use `del` to remove objects\n",
        "\n",
        "  ```\n",
        "a = [1, 2, 3]\n",
        "del a  # Deletes 'a' from memory\n",
        "  ```\n",
        "\n",
        "- **Use `gc.collect()` to force garbage collection**\n",
        "\n",
        "  ```\n",
        "import gc\n",
        "gc.collect()\n",
        "  ```\n",
        "\n",
        "- Use Generators (`yield`) Instead of Lists: Generators save memory by yielding values on demand instead of storing them.\n",
        "\n",
        "  ```\n",
        "  def generate_numbers():\n",
        "      for i in range(10):\n",
        "          yield i     #Saves memory\n",
        "  gen = generate_numbers()\n",
        "  print(next(gen))\n",
        "  ```\n",
        "\n",
        " OUTPUT:\n",
        "\n",
        "  ```\n",
        "  0\n",
        "  ```\n",
        "\n",
        "- **Use slots to Reduce Memory Usage in Classes**: Using slots prevents unnecessary memory allocation for instance attributes.\n",
        "\n",
        "  ```\n",
        "  class Person:\n",
        "      _slots_ = ['name', 'age']  # Limits attributes to these two\n",
        "      def _init_(self, name, age):\n",
        "          self.name = name\n",
        "          self.age = age\n",
        "          ```\n",
        "\n",
        "Python’s memory management makes it efficient, easy to use, and developer-friendly."
      ],
      "metadata": {
        "id": "SGprp5OErSlT"
      }
    },
    {
      "cell_type": "markdown",
      "source": [
        "### Q12. What are the basic steps involved in exception handling in Python?"
      ],
      "metadata": {
        "id": "-ZOl2zvgqd2-"
      }
    },
    {
      "cell_type": "markdown",
      "source": [
        "ANS 12.\n",
        "\n",
        "Basic Steps in Exception Handling in Python are:\n",
        "\n",
        "1. **Use `try` Block to Enclose Risky Code**: Place code that might raise an exception inside a try block.\n",
        "\n",
        "  ```\n",
        "  try:\n",
        "    num = int(input(\"Enter a number: \"))  # Risky code\n",
        "    result = 10 / num\n",
        "  ```\n",
        "\n",
        "2. **Use `except` Block to Handle Exceptions**: If an exception occurs in the try block, Python jumps to the except block.\n",
        "You can catch specific exceptions or use except Exception to catch all errors.\n",
        "\n",
        "  ```\n",
        "   try:\n",
        "       num = int(input(\"Enter a number: \"))\n",
        "       result = 10 / num\n",
        "   except ZeroDivisionError:\n",
        "       print(\"Error: Cannot divide by zero!\")\n",
        "   except ValueError:\n",
        "       print(\"Error: Invalid input! Please enter a number.\")\n",
        "   except Exception as e:\n",
        "       print(f\"Unexpected error: {e}\")\n",
        "  ```\n",
        "\n",
        "3. **Use `else` Block for Code That Runs Only If No Exception Occurs**: The else block executes only if no exception was raised in try.\n",
        "\n",
        "  ```\n",
        "  try:\n",
        "      num = int(input(\"Enter a number: \"))\n",
        "      result = 10 / num\n",
        "  except ZeroDivisionError:\n",
        "      print(\"Cannot divide by zero!\")\n",
        "  else:\n",
        "      print(f\"Division successful: {result}\")  # Runs if no exception occurs\n",
        "  ```\n",
        "\n",
        "4. **Use `finally` Block for Cleanup (Always Executes)**: The finally block runs regardless of whether an exception occurs.\n",
        "Useful for closing files, releasing resources, or cleanup actions.\n",
        "\n",
        "  ```\n",
        "  try:\n",
        "      file = open(\"example.txt\", \"r\")\n",
        "      content = file.read()\n",
        "  except FileNotFoundError:\n",
        "      print(\"File not found!\")\n",
        "  finally:\n",
        "      print(\"Closing file (if open).\")  # This always runs\n",
        "  ```\n"
      ],
      "metadata": {
        "id": "IU2l3Y_RrUf7"
      }
    },
    {
      "cell_type": "markdown",
      "source": [
        "### Q13. Why is memory management important in Python?"
      ],
      "metadata": {
        "id": "GbpPFgXgqeCF"
      }
    },
    {
      "cell_type": "markdown",
      "source": [
        "ANS 13.  \n",
        "\n",
        "Memory Management matters in Python because of the following reasons:\n",
        "\n",
        "\n",
        "1. **Prevents Memory Leaks**:\n",
        "- Memory leaks occur when objects are not properly freed, consuming system memory indefinitely.\n",
        "- Python’s garbage collector (GC) removes unreferenced objects, but improper coding (e.g., circular references) can still lead to memory leaks.\n",
        "\n",
        "\n",
        "2. **Improves Performance and Speed**:\n",
        "- Efficient memory use reduces RAM consumption, making programs run faster.\n",
        "- Using generators, _slots_, and `del` statements can optimize memory usage.\n",
        "- Example: Using a Generator Instead of a List\n",
        "\n",
        "  ```\n",
        "  def generate_numbers():\n",
        "      for i in range(1000000):\n",
        "          yield i  # Uses less memory\n",
        "\n",
        "  gen = generate_numbers()  # Saves memory compared to list\n",
        "```\n",
        "\n",
        "3. **Prevents Crashes Due to Excessive Memory Usage**:\n",
        "- Large data structures (e.g., lists, dictionaries) can consume excessive memory.\n",
        "- Optimizing data storage and using lightweight data types helps prevent crashes.\n",
        "- Example: Using array instead of List for Memory Efficiency\n",
        "\n",
        "  ```\n",
        "  import array\n",
        "  arr = array.array('i', [1, 2, 3, 4])  # Uses less memory than a list\n",
        "  ```\n",
        "\n",
        "4. **Ensures Efficient Resource Utilization**:\n",
        "- Closing unused file handles, database connections, and network sockets prevents resource exhaustion.\n",
        "- Example: Using `with` statement for File Handling\n",
        "\n",
        "  ```\n",
        "  with open(\"file.txt\", \"r\") as f:\n",
        "      content = f.read()  # File closes automatically, preventing memory issues\n",
        "  ```\n",
        "\n",
        "5. **Optimizes Multithreading and Multiprocessing**:\n",
        "- Efficient memory management ensures smooth execution of concurrent tasks.\n",
        "- Multiprocessing uses separate memory spaces, preventing interference.\n",
        "- Example: Multiprocessing for CPU-Intensive Tasks\n",
        "\n",
        "  ```\n",
        "  from multiprocessing import Process\n",
        "  \n",
        "  def task():\n",
        "      print(\"Running task\")\n",
        "  \n",
        "  p = Process(target=task)\n",
        "  p.start()\n",
        "  p.join()\n",
        "  ```"
      ],
      "metadata": {
        "id": "g3cHZFi-rWsL"
      }
    },
    {
      "cell_type": "markdown",
      "source": [
        "### Q14. What is the role of try and except in exception handling?"
      ],
      "metadata": {
        "id": "bRp54v_RqeJF"
      }
    },
    {
      "cell_type": "markdown",
      "source": [
        "ANS 14.\n",
        "\n",
        "The `try` and `except` blocks are fundamental in Python's exception handling mechanism. They allow programs to handle runtime errors gracefully without crashing.\n",
        "\n",
        "1. **`try` Block: Detects Errors**\n",
        "- The try block contains code that might raise an exception.\n",
        "- If no error occurs, the try block executes completely.\n",
        "- If an error occurs, execution immediately jumps to the except block.\n",
        "- Example:\n",
        "\n",
        "  ```\n",
        "  try:\n",
        "      x = int(input(\"Enter a number: \"))  # Risky operation\n",
        "      result = 10 / x  # May raise ZeroDivisionError\n",
        "      print(\"Result:\", result)\n",
        "  ```\n",
        "\n",
        "2. **`except` Block: Handles Errors**\n",
        "- The except block catches and handles the exception raised in try.\n",
        "- It prevents program crashes by displaying custom error messages or taking alternative actions.\n",
        "- Multiple except blocks can handle different types of exceptions.\n",
        "- Example: Handling Specific Errors\n",
        "\n",
        "  ```\n",
        "  try:\n",
        "      x = int(input(\"Enter a number: \"))\n",
        "      result = 10 / x\n",
        "  except ZeroDivisionError:\n",
        "      print(\"Error: You cannot divide by zero!\")  # Handles division error\n",
        "  except ValueError:\n",
        "      print(\"Error: Please enter a valid number!\")  # Handles invalid input\n",
        "  ```\n",
        "\n",
        "  OUTPUT:\n",
        "\n",
        "  ```\n",
        "  Enter a number: 0\n",
        "  Error: You cannot divide by zero!\n",
        "\n",
        "  ```\n",
        "\n",
        "- Example: Handling All Errors (Not Recommended)\n",
        "\n",
        "  ```\n",
        "  try:\n",
        "      x = int(\"abc\")  # Invalid conversion\n",
        "  except Exception as e:\n",
        "      print(f\"An error occurred: {e}\")  # Catches any exception\n",
        "  ```\n",
        "\n",
        "  OUTPUT:\n",
        "\n",
        "  ```\n",
        "An error occurred: invalid literal for int() with base 10: 'abc'\n",
        "  ```"
      ],
      "metadata": {
        "id": "Ioww-P50rYzb"
      }
    },
    {
      "cell_type": "markdown",
      "source": [
        "### Q15. How does Python's garbage collection system work?\n",
        "\n",
        "\n",
        "\n"
      ],
      "metadata": {
        "id": "aXXMHP-8qk12"
      }
    },
    {
      "cell_type": "markdown",
      "source": [
        "ANS 15.\n",
        "\n",
        "\n",
        "Python’s Garbage Collection (GC) system automatically manages memory by reclaiming unused objects. It prevents memory leaks and ensures efficient resource utilization.\n",
        "\n",
        "1. **Reference Counting (Primary Mechanism)**:\n",
        "- Every object in Python has a reference count that tracks how many variables refer to it.\n",
        "- When an object’s reference count reaches zero, it is immediately deleted.\n",
        "- Example: Reference Counting in Action\n",
        "\n",
        "  ```\n",
        "  import sys\n",
        "\n",
        "  x = [1, 2, 3]  # Object created\n",
        "  print(sys.getrefcount(x))  # Output: 2 (one from x, one from getrefcount)\n",
        "\n",
        "  y = x  # Another reference\n",
        "  print(sys.getrefcount(x))  # Output: 3\n",
        "\n",
        "  del x  # Removes one reference\n",
        "  print(sys.getrefcount(y))  # Output: 2\n",
        "\n",
        "  del y  # Now the object has zero references → automatically deleted\n",
        "  ```\n",
        "  OUTPUT:\n",
        "\n",
        "  ```\n",
        "  2\n",
        "  3\n",
        "  2\n",
        "  ```\n",
        "\n",
        "2. **Garbage Collector (Handles Circular References)**:\n",
        "- Python’s reference counting fails when objects reference each other (circular references).\n",
        "- To fix this, Python has an automatic garbage collector that:\n",
        "\n",
        " - Detects circular references.\n",
        " - Cleans up unreachable objects.\n",
        "- Example: Circular Reference Problem & GC Solution\n",
        "\n",
        "  ```\n",
        "  import gc\n",
        "\n",
        "  class Node:\n",
        "      def _init_(self):\n",
        "          self.ref = self  # Circular reference\n",
        "\n",
        "  obj = Node()\n",
        "  del obj  # Reference count doesn’t reach zero due to self-reference\n",
        "\n",
        "  gc.collect()  # Manually trigger garbage collection\n",
        "  ```\n",
        "\n",
        "3. **Generational Garbage Collection (Optimized Cleanup)**:\n",
        "- Python’s GC uses generations to optimize memory cleanup.\n",
        "Objects are categorized into three generations:\n",
        " - Gen 0 (young objects) – Newly created, collected frequently.\n",
        " - Gen 1 (medium-lived objects) – Survive one GC cycle.\n",
        " - Gen 2 (long-lived objects) – Least frequently collected.\n",
        "\n",
        "- Example: Checking & Controlling GC Behavior\n",
        "\n",
        "  ```\n",
        "  import gc\n",
        "\n",
        "  gc.collect()  # Manually trigger garbage collection\n",
        "  print(gc.get_stats())  # View GC statistics\n",
        "  ```\n",
        "\n",
        "4. **Disabling & Enabling Garbage Collection (Optional)**\n",
        "Python allows manual control over garbage collection.\n",
        "\n",
        "- Example: Turning GC Off & On\n",
        "\n",
        "  ```\n",
        "  import gc\n",
        "\n",
        "  gc.disable()  # Disable automatic GC\n",
        "  # Run memory-intensive operations...\n",
        "  gc.enable()  # Re-enable GC\n",
        "  ```\n",
        "  OUTPUT:\n",
        "\n",
        "  ```\n",
        "[{'collections': 312, 'collected': 2599, 'uncollectable': 0}, {'collections': 28, 'collected': 533, 'uncollectable': 0}, {'collections': 7, 'collected': 379, 'uncollectable': 0}]\n",
        "  ```"
      ],
      "metadata": {
        "id": "1fb80C5Bram8"
      }
    },
    {
      "cell_type": "markdown",
      "source": [
        "### Q16. What is the purpose of the `else` block in exception handling?"
      ],
      "metadata": {
        "id": "MXZK89yAqmRe"
      }
    },
    {
      "cell_type": "markdown",
      "source": [
        "ANS 16.\n",
        "\n",
        "The `else` block in Python's exception handling is used to execute code only if no exception occurs in the `try` block. It helps separate error-handling logic (except) from normal execution flow.\n",
        "\n",
        "**When to Use the else Block?**\n",
        "- To keep cleaner and more readable code by separating error-handling (except) from normal execution.\n",
        "\n",
        "- To execute code only when no exception is raised in the try block.\n",
        "\n",
        "- Useful for running additional logic that should not execute if an error occurs.\n",
        "\n",
        "- Example:\n",
        "\n",
        "  ```\n",
        "  try:\n",
        "      num = int(input(\"Enter a number: \"))  # Risky operation\n",
        "      result = 10 / num  # Might raise ZeroDivisionError\n",
        "  except ZeroDivisionError:\n",
        "      print(\"Error: Cannot divide by zero!\")\n",
        "  except ValueError:\n",
        "      print(\"Error: Invalid input! Please enter a number.\")\n",
        "  else:\n",
        "      print(f\"Division successful! Result: {result}\")  # Runs only if no exception occurs\n",
        "  ```\n",
        "  OUTPUT:\n",
        "\n",
        "  ```\n",
        "Enter a number: 7\n",
        "Division successful! Result: 1.4285714285714286\n",
        "  ```\n",
        "\n",
        " What Happens Here?\n",
        "\n",
        " - If the user enters 0 → ZeroDivisionError occurs, `else` block is skipped.\n",
        " - If the user enters a non-numeric value → ValueError occurs, `else` block is skipped.\n",
        " - If the user enters a valid number → No exception occurs, `else` block executes.\n"
      ],
      "metadata": {
        "id": "jINwh2qHrewE"
      }
    },
    {
      "cell_type": "markdown",
      "source": [
        "### Q17. What are the common logging levels in Python?"
      ],
      "metadata": {
        "id": "5Rp64LHPqnuW"
      }
    },
    {
      "cell_type": "markdown",
      "source": [
        "ANS 17.\n",
        "\n",
        "Python's logging module provides five standard logging levels, each indicating the severity of an event. These levels help developers categorize logs and control their visibility.\n",
        "\n",
        "1. **DEBUG (Level: 10)**\n",
        "- Used for detailed diagnostic information during development.\n",
        "\n",
        "- Helps in debugging issues without affecting normal execution.\n",
        "\n",
        "- Use case: Checking variable values, function calls, etc.\n",
        "\n",
        "2. **INFO (Level: 20)**\n",
        "- Used to log general information about program execution.\n",
        "\n",
        "- Indicates normal operations, such as successful connections or function calls.\n",
        "\n",
        "- Use case: Tracking application flow, user actions, or configuration details.\n",
        "\n",
        "3. **WARNING (Level: 30)**\n",
        "- Indicates potential issues that don’t stop execution but might need attention.\n",
        "\n",
        "- Used for unexpected events or deprecated features.\n",
        "\n",
        "- Use case: API deprecations, performance concerns, or security warnings.\n",
        "\n",
        "4. **ERROR (Level: 40)**\n",
        "- Logs serious problems that prevent part of the program from functioning correctly.\n",
        "\n",
        "- Indicates recoverable errors, such as file not found or database connection failure.\n",
        "\n",
        "- Use case: Logging exceptions or critical failures that need immediate attention.\n",
        "\n",
        "5. **CRITICAL (Level: 50)**\n",
        "- Logs severe errors that might cause program failure.\n",
        "\n",
        "- Used when an application cannot recover from an issue.\n",
        "\n",
        "- Use case: Hardware failure, data corruption, or system crashes.\n",
        "\n",
        "\n",
        "\n",
        "Example: Set Logging Level to WARNING and Above\n",
        "\n",
        "```\n",
        "importlogging\n",
        "\n",
        "logging.basicConfig(level=logging.WARNING)\n",
        "logging.debug(\"This will not be logged.\")  # Ignored\n",
        "logging.info(\"This will not be logged.\")  # Ignored\n",
        "logging.warning(\"This is a warning.\")  # Logged\n",
        "logging.error(\"This is an error.\")  # Logged\n",
        "logging.critical(\"Critical failure!\")  # Logged\n",
        "```\n",
        "\n",
        "OUTPUT:\n",
        "\n",
        "```\n",
        "WARNING:root:This is a warning.\n",
        "ERROR:root:This is an error.\n",
        "CRITICAL:root:Critical failure!\n",
        "```"
      ],
      "metadata": {
        "id": "NLhunn5Arg9F"
      }
    },
    {
      "cell_type": "markdown",
      "source": [
        "### Q18. What is the difference between os.fork() and multiprocessing in Python?"
      ],
      "metadata": {
        "id": "ypx182gcqpTe"
      }
    },
    {
      "cell_type": "markdown",
      "source": [
        "ANS 18.\n",
        "\n",
        "1. **`os.fork()`: Direct Process Forking**\n",
        "- Creates a child process by duplicating the parent process.\n",
        "- Uses the same memory space as the parent initially.\n",
        "- Available only on Unix-based systems (Linux, macOS).\n",
        "- Parent and child processes execute the same code from the fork point.\n",
        "- Example of os.fork():\n",
        "\n",
        "  ```\n",
        "  import os\n",
        "\n",
        "  def child_process():\n",
        "      print(f\"Child Process (PID: {os.getpid()})\")\n",
        "\n",
        "  pid = os.fork()  # Fork the process\n",
        "\n",
        "  if pid == 0:\n",
        "      child_process()  # Runs in child process\n",
        "  else:\n",
        "      print(f\"Parent Process (PID: {os.getpid()}), Child PID: {pid}\")\n",
        "  ```\n",
        "  OUTPUT:\n",
        "\n",
        "  ```\n",
        "  Parent Process (PID: 159), Child PID: 37836\n",
        "  Child Process (PID: 37836)\n",
        "  ```\n",
        "\n",
        "2. **Multiprocessing: Cross-Platform Process Creation**\n",
        "- Creates completely separate processes, each with its own memory space.\n",
        "- Works on both Windows and Unix.\n",
        "- Provides easy communication (IPC), process pools, and shared memory.\n",
        "- More Pythonic and safer for complex applications.\n",
        "- Example of multiprocessing:\n",
        "\n",
        "  ```\n",
        "  from multiprocessing import Process\n",
        "  import os\n",
        "\n",
        "  def child_process():\n",
        "      rint(f\"Child Process (PID: {os.getpid()})\")\n",
        "\n",
        "  if __name__ == \"__main__\":\n",
        "      p = Process(target=child_process)  # Create a new process\n",
        "      p.start()  # Start process\n",
        "      p.join()  # Wait for the process to finish\n",
        "      print(\"Parent process exiting\")\n",
        "  ```\n",
        "  OUTPUT:\n",
        "  \n",
        "  ```\n",
        "Child Process (PID: 44637)\n",
        "Parent process exiting\n",
        "  ```"
      ],
      "metadata": {
        "id": "Pm--KaPUri1c"
      }
    },
    {
      "cell_type": "markdown",
      "source": [
        "### Q19. What is the importance of closing a file in Python?"
      ],
      "metadata": {
        "id": "nxnNBEUVqq8v"
      }
    },
    {
      "cell_type": "markdown",
      "source": [
        "ANS 19.\n",
        "\n",
        "Closing a file in Python is important because it:\n",
        "\n",
        "- **Frees System Resources** – Open files consume system resources like memory and file descriptors. Closing the file ensures these resources are released.\n",
        "\n",
        "- **Prevents Data Loss** – If we write to a file and do not close it, changes may not be saved properly due to buffering. Closing ensures all data is written to disk.\n",
        "\n",
        "- **Avoids Corruption** – Not closing a file, especially in write mode, can lead to data corruption if the program crashes or is interrupted.\n",
        "\n",
        "- **Allows Access by Other Programs** – Some operating systems lock open files. Closing them makes them available for other processes.\n",
        "\n",
        "BEST PRACTICE: Use of `with` statement\n",
        "- Instead of manually closing a file with file.close(), we must use a `with` statement:\n",
        "\n",
        "  ```\n",
        "  with open(\"example.txt\", \"w\") as file:\n",
        "      file.write(\"Hello, World!\")\n",
        "  #File is automatically closed when the block exits\n",
        "  ```\n",
        "  \n",
        "This ensures the file is closed properly, even if an error occurs.\n",
        "\n"
      ],
      "metadata": {
        "id": "Ws6yBHs3rkuV"
      }
    },
    {
      "cell_type": "markdown",
      "source": [
        "### Q20. What is the difference between file.read() and file.readline() in Python?"
      ],
      "metadata": {
        "id": "vV2Q3GhBqtD_"
      }
    },
    {
      "cell_type": "markdown",
      "source": [
        "ANS 20.\n",
        "\n",
        "The difference between file.read() and file.readline() in Python is:\n",
        "\n",
        "1. **`file.read(size)`**\n",
        "- Reads the entire file or a specified number of bytes.\n",
        "- Returns a string (or bytes if opened in binary mode).\n",
        "- Useful for reading the whole file at once or in chunks.\n",
        "- Example:\n",
        "\n",
        "  ```\n",
        "  with open(\"example.txt\", \"r\") as file:\n",
        "      content = file.read()  # Reads the entire file\n",
        "      print(content)\n",
        "  ```\n",
        "\n",
        "We can also pass a size argument to read a specific number of characters:\n",
        "\n",
        "  ```\n",
        "  with open(\"example.txt\", \"r\") as file:\n",
        "      partial_content = file.read(50)  # Reads first 50 characters\n",
        "      print(partial_content)\n",
        "  ```\n",
        "\n",
        "2. **`file.readline()`**\n",
        "- Reads a single line from the file.\n",
        "- Returns a string including the newline character (\\n), unless it's the last line.\n",
        "- Useful for reading a file line by line.\n",
        "- Example:\n",
        "\n",
        "  ```\n",
        "  with open(\"example.txt\", \"r\") as file:\n",
        "      first_line = file.readline()  # Reads only the first line\n",
        "      print(first_line)\n",
        "  ```\n",
        "  \n",
        "To read all lines one by one:\n",
        "\n",
        "  ```\n",
        "  with open(\"example.txt\", \"r\") as file:\n",
        "      for line in file:\n",
        "          print(line, end=\"\")  # Avoid extra new lines\n",
        "  ```"
      ],
      "metadata": {
        "id": "gAhUUXMXrOvb"
      }
    },
    {
      "cell_type": "markdown",
      "source": [
        "### Q21. What is the logging module in Python used for?"
      ],
      "metadata": {
        "id": "6lonfqPpquX_"
      }
    },
    {
      "cell_type": "markdown",
      "source": [
        "ANS 21.\n",
        "\n",
        "The logging module in Python is used for tracking events that happen during program execution. It provides a flexible way to log messages, making it easier to debug, monitor, and analyze the behavior of applications.\n",
        "\n",
        "**Key Uses of the logging Module**:\n",
        "- Debugging – Helps track errors and understand program flow.\n",
        "- Error Tracking – Stores logs for future reference in case of failures.\n",
        "- Performance Monitoring – Records important events and execution time.\n",
        "- Custom Logging – Allows filtering logs based on severity levels.\n",
        "\n",
        "\n",
        "**Logging Levels**:\n",
        "\n",
        "The module provides different levels of logging messages:\n",
        "\n",
        "- DEBUG – Detailed information for diagnosing problems.\n",
        "- INFO – Confirmation that things are working as expected.\n",
        "- WARNING – Indication of a potential issue.\n",
        "- ERROR – A serious problem that prevents a part of the program from running.\n",
        "- CRITICAL – A severe error that may cause program termination."
      ],
      "metadata": {
        "id": "pPZNi_wxrMqy"
      }
    },
    {
      "cell_type": "markdown",
      "source": [
        "### Q22. What is the os module in Python used for in file handling?"
      ],
      "metadata": {
        "id": "dEkAXuDyqvsn"
      }
    },
    {
      "cell_type": "markdown",
      "source": [
        "ANS 22.\n",
        "\n",
        "The `os` module in Python is used for interacting with the operating system, including file handling operations. It provides functions to create, delete, rename, and manage files and directories.  \n",
        "\n",
        " **Common File Handling Operations with `os` Module are as follows:**  \n",
        "\n",
        "1. **Check if a File or Directory Exists**\n",
        "\n",
        "  ```\n",
        "  import os\n",
        "\n",
        "  print(os.path.exists(\"example.txt\"))  # True if the file exists\n",
        "  print(os.path.isdir(\"my_folder\"))  # True if it’s a directory\n",
        "  print(os.path.isfile(\"example.txt\"))  # True if it’s a file\n",
        "  ```\n",
        "\n",
        "2. **Create a Directory:**  \n",
        "\n",
        "  ```\n",
        "  import os\n",
        "  os.mkdir(\"new_folder\")  # Creates a new folder\n",
        "  ```\n",
        "\n",
        "3. **To create nested directories:**  \n",
        "\n",
        "  ```\n",
        "  import os\n",
        "  os.makedirs(\"parent_folder/child_folder\")  # Creates parent and child folders\n",
        "  ```\n",
        "\n",
        "4. **Rename a File or Directory**  \n",
        "\n",
        "  ```\n",
        "  import os\n",
        "  os.rename(\"old_name.txt\", \"new_name.txt\")  # Renames a file\n",
        "  ```\n",
        "\n",
        "5. **Remove a File or Directory**  \n",
        "\n",
        "  ```\n",
        "  import os\n",
        "  os.remove(\"example.txt\")  # Deletes a file\n",
        "  os.rmdir(\"new_folder\")  # Deletes an empty directory\n",
        "  ```\n",
        "\n",
        "6. **Get the Current Working Directory**  \n",
        "\n",
        "  ```\n",
        "  import os\n",
        "  print(os.getcwd())  # Returns the current directory path\n",
        "  ```\n",
        "\n",
        "7. **Change the Current Working Directory**  \n",
        "\n",
        "  ```\n",
        "  import os\n",
        "  os.chdir(\"C:/Users/Username/Documents\")  # Changes the working directory\n",
        "  ```\n",
        "\n",
        "8. **List Files and Directories in a Path**  \n",
        "\n",
        "  ```\n",
        "  import os\n",
        "  print(os.listdir(\".\"))  # Lists files and folders in the current directory\n",
        "  ```"
      ],
      "metadata": {
        "id": "L9f7FWrBrJdS"
      }
    },
    {
      "cell_type": "markdown",
      "source": [
        "### Q23. What are the challenges associated with memory management in Python?"
      ],
      "metadata": {
        "id": "1wxiKBUqqypQ"
      }
    },
    {
      "cell_type": "markdown",
      "source": [
        "ANS 23.\n",
        "\n",
        "Memory management in Python is handled automatically by the Python memory manager and garbage collector. However, there are several challenges associated with it:\n",
        "\n",
        "1. **Garbage Collection Overhead:** Python’s garbage collector (GC) automatically frees unused memory, but it may introduce performance overhead, especially when dealing with large objects or frequent memory allocations.\n",
        "\n",
        "2. **Reference Cycles:**\n",
        " - Python uses reference counting to manage memory. If two objects reference each other, they create a reference cycle, preventing automatic cleanup.\n",
        " - Python’s garbage collector can detect and clean up cyclic references, but it adds complexity and can delay deallocation.\n",
        "\n",
        "3. **Memory Leaks:** Memory leaks occur when objects remain referenced unintentionally, preventing them from being garbage collected. This can happen with:\n",
        " - Global variables that persist longer than needed.\n",
        " - C extensions or third-party libraries that mismanage memory.\n",
        " - Holding unnecessary references in data structures like lists or dictionaries.\n",
        "\n",
        "4. **Fragmentation:** When Python repeatedly allocates and deallocates memory, it can cause memory fragmentation, leading to inefficient memory use, especially in long-running applications.\n",
        "\n",
        "5. **High Memory Usage in Long-Running Applications:** Applications with continuous execution (like web servers or data processing scripts) may experience increasing memory consumption due to inefficient memory release, requiring manual intervention.\n",
        "\n",
        "6. **Objects Staying in Memory Due to Caches:** Built-in caching mechanisms (like function closures, lru_cache, or global variables) may keep objects in memory longer than necessary.\n",
        "\n",
        "7. **Lack of Explicit Memory Management:** Unlike languages like C or C++, Python does not provide direct control over memory allocation and deallocation, making it harder to optimize memory usage for performance-critical applications."
      ],
      "metadata": {
        "id": "b1caIIxSrH-C"
      }
    },
    {
      "cell_type": "markdown",
      "source": [
        "### Q24. How do you raise an exception manually in Python?\n"
      ],
      "metadata": {
        "id": "ipQvavBOqz7A"
      }
    },
    {
      "cell_type": "markdown",
      "source": [
        "ANS 24.\n",
        "\n",
        "In Python, we can manually raise an exception using the `raise` keyword. This is useful when we want to enforce certain conditions or handle errors explicitly.\n",
        "\n",
        "\n",
        "**Raising Built-in Exceptions:** Python provides many built-in exceptions that we can raise manually.\n",
        "\n",
        "**Example 1:** Raising a ValueError\n",
        "\n",
        "```\n",
        "age = -5\n",
        "if age < 0:\n",
        "    raise ValueError(\"Age cannot be negative\")\n",
        "```\n",
        "\n",
        "**Example 2:** Raising a TypeError\n",
        "\n",
        "```\n",
        "def add_numbers(a, b):\n",
        "    if not isinstance(a, (int, float)) or not isinstance(b, (int, float)):\n",
        "        raise TypeError(\"Both arguments must be numbers\")\n",
        "    return a + b\n",
        "\n",
        "add_numbers(5, \"ten\")  # This will raise a TypeError\n",
        "```\n",
        "\n",
        "\n",
        "**Raising a Custom Exception:** We can define our own exception class by inheriting from Exception.\n",
        "\n",
        "```\n",
        "class CustomError(Exception):\n",
        "    \"\"\"Custom exception for specific error handling.\"\"\"\n",
        "    pass\n",
        "\n",
        "raise CustomError(\"This is a custom exception\")\n",
        "```\n",
        "\n",
        "\n",
        "**Using raise Inside try-except:**\n",
        "\n",
        "```\n",
        "try:\n",
        "    x = 1 / 0\n",
        "except ZeroDivisionError as e:\n",
        "    print(\"Handling division error...\")\n",
        "    raise  # Re-raises the original exception\n",
        "```"
      ],
      "metadata": {
        "id": "p8Y03lI6rGXC"
      }
    },
    {
      "cell_type": "markdown",
      "source": [
        "### Q25. Why is it important to use multithreading in certain applications?"
      ],
      "metadata": {
        "id": "0X_lkVN0q1eI"
      }
    },
    {
      "cell_type": "markdown",
      "source": [
        "ANS 25.\n",
        "\n",
        "Multithreading is important in certain applications because it allows programs to perform multiple tasks **concurrently**, improving performance and responsiveness. Here are some key reasons why multithreading is beneficial:  \n",
        "\n",
        "1. **Improved Responsiveness**  \n",
        "- In GUI applications, multithreading prevents the interface from freezing while performing background tasks.  \n",
        "- Example: A video player can keep playing a video while allowing user interactions.  \n",
        "\n",
        "2. **Faster Execution for I/O-Bound Tasks**  \n",
        "- Multithreading is useful for applications that involve *I/O operations*, such as file reading, database access, or network requests.  \n",
        "- Example: A web scraper can fetch multiple web pages simultaneously instead of one at a time.  \n",
        "\n",
        "3. **Efficient Resource Utilization**  \n",
        "- Multiple threads can share the same memory space, reducing memory overhead compared to multiprocessing.  \n",
        "- Example: A server handling multiple client requests can use threads instead of creating separate processes for each client.\n",
        "\n",
        "4. **Parallelism in Multi-Core Processors (Limited)**  \n",
        "- Python’s *Global Interpreter Lock (GIL)* restricts true parallel execution for CPU-bound tasks, but *I/O-bound tasks* can still benefit from threading.  \n",
        "- Example: A chat application can send and receive messages simultaneously using threads.  \n",
        "\n",
        "5. **Better Performance in Asynchronous Tasks**  \n",
        "- Background tasks like logging, caching, or periodic updates can run in separate threads, keeping the main program efficient.  \n",
        "- Example: A game engine can run physics calculations in a separate thread while rendering graphics."
      ],
      "metadata": {
        "id": "TmMFtARkq3_A"
      }
    },
    {
      "cell_type": "markdown",
      "source": [
        "# **PRACTICAL QUESTIONS**"
      ],
      "metadata": {
        "id": "wFT-0tDJkUWI"
      }
    },
    {
      "cell_type": "markdown",
      "source": [
        "### Q1. How can you open a file for writing in Python and write a string to it?"
      ],
      "metadata": {
        "id": "iKsmLsndkqpQ"
      }
    },
    {
      "cell_type": "code",
      "source": [
        "# Opening the file in write mode\n",
        "with open(\"example.txt\", \"w\") as file:\n",
        "    # Writing a string to the file\n",
        "    file.write(\"Hello, my name is SADIQUA! \\n\")\n",
        "    file.write(\"I am 24 years old \\n\")\n",
        "    file.write(\"I am studying Python\\n\")\n",
        "    file.write(\"I am studying Mathematics \\n\")"
      ],
      "metadata": {
        "id": "ecZGHrqcpnJJ"
      },
      "execution_count": null,
      "outputs": []
    },
    {
      "cell_type": "markdown",
      "source": [
        "### Q2. Write a Python program to read the contents of a file and print each line."
      ],
      "metadata": {
        "id": "nJQfNXfSkqxg"
      }
    },
    {
      "cell_type": "code",
      "source": [
        "# Opening the file in read mode\n",
        "with open(\"example.txt\", \"r\") as file:\n",
        "    # Loop through each line in the file\n",
        "    for line in file:\n",
        "        print(line, end=\"\")  # end=\"\" prevents adding extra newlines"
      ],
      "metadata": {
        "colab": {
          "base_uri": "https://localhost:8080/"
        },
        "id": "RBTKGATXpnuR",
        "outputId": "f23ae881-0acb-48ea-efe9-d4f316e030d1"
      },
      "execution_count": null,
      "outputs": [
        {
          "output_type": "stream",
          "name": "stdout",
          "text": [
            "Hello, my name is SADIQUA! \n",
            "I am 24 years old \n",
            "I am studying Python\n",
            "I am studying Mathematics \n"
          ]
        }
      ]
    },
    {
      "cell_type": "markdown",
      "source": [
        "### Q3. How would you handle a case where the file doesn't exist while trying to open it for reading?"
      ],
      "metadata": {
        "id": "ll49AtYLkq4o"
      }
    },
    {
      "cell_type": "code",
      "source": [
        "# In such a case, we use try-except block to handle the exceptions\n",
        "\n",
        "try:\n",
        "    # Attempt to open the file in read mode\n",
        "    with open(\"test.txt\", \"r\") as file:\n",
        "        # Reading and printing the contents of the file\n",
        "        content = file.read()\n",
        "        print(content)\n",
        "except FileNotFoundError:\n",
        "    # Handling the case where the file does not exist\n",
        "    print(\"Error: The file does not exist.\")"
      ],
      "metadata": {
        "colab": {
          "base_uri": "https://localhost:8080/"
        },
        "id": "29-k2vp0poTZ",
        "outputId": "db946b5d-3e45-46f5-f080-4e496b724759"
      },
      "execution_count": null,
      "outputs": [
        {
          "output_type": "stream",
          "name": "stdout",
          "text": [
            "Error: The file does not exist.\n"
          ]
        }
      ]
    },
    {
      "cell_type": "markdown",
      "source": [
        "### Q4. Write a Python script that reads from one file and writes its content to another file.\n"
      ],
      "metadata": {
        "id": "BfOONbDdkq_Y"
      }
    },
    {
      "cell_type": "code",
      "source": [
        "# Opening the source file in read mode\n",
        "with open(\"source.txt\", \"r\") as source_file:\n",
        "    # Opening the destination file in write mode\n",
        "    with open(\"destination.txt\", \"w\") as destination_file:\n",
        "        # Reading each line from the source file and writing to the destination file\n",
        "        for i in source_file:\n",
        "            destination_file.write(i)\n",
        "\n",
        "print(\"Content has been copied from source.txt to destination.txt.\")"
      ],
      "metadata": {
        "id": "wjdaczETtVna"
      },
      "execution_count": null,
      "outputs": []
    },
    {
      "cell_type": "markdown",
      "source": [
        "### Q5.  How would you catch and handle division by zero error in Python?"
      ],
      "metadata": {
        "id": "DyYcl7S3krGh"
      }
    },
    {
      "cell_type": "code",
      "source": [
        "try:\n",
        "  #taking input for divisor\n",
        "  num = int(input(\"Enter a number: \"))\n",
        "  #operating division\n",
        "  result = 10 / num\n",
        "except ZeroDivisionError:\n",
        "  #handling division by zero\n",
        "  print(\"Cannot divide by zero!\")"
      ],
      "metadata": {
        "colab": {
          "base_uri": "https://localhost:8080/"
        },
        "id": "OKGEyEZvudeZ",
        "outputId": "841d3555-153e-4bbc-b84d-851baabda8c3"
      },
      "execution_count": null,
      "outputs": [
        {
          "output_type": "stream",
          "name": "stdout",
          "text": [
            "Enter a number: 0\n",
            "Cannot divide by zero!\n"
          ]
        }
      ]
    },
    {
      "cell_type": "markdown",
      "source": [
        "### Q6. Write a Python program that logs an error message to a log file when a division by zero exception occurs."
      ],
      "metadata": {
        "id": "HZ5dSt6dkrOw"
      }
    },
    {
      "cell_type": "code",
      "source": [
        "import logging\n",
        "\n",
        "# Configure logging to write to a file\n",
        "logging.basicConfig(filename=\"error_log.txt\", level=logging.ERROR, format=\"%(asctime)s - %(levelname)s - %(message)s\")\n",
        "\n",
        "try:\n",
        "    # Attempting division by zero\n",
        "    result = 10 / 0\n",
        "except ZeroDivisionError as e:\n",
        "    # Log the error message to the log file\n",
        "    logging.error(f\"Division by zero error: {e}\")"
      ],
      "metadata": {
        "colab": {
          "base_uri": "https://localhost:8080/"
        },
        "id": "MLDQp3OEpp7h",
        "outputId": "382dc98c-8190-4851-f870-62f860f423b7"
      },
      "execution_count": null,
      "outputs": [
        {
          "output_type": "stream",
          "name": "stderr",
          "text": [
            "ERROR:root:Division by zero error: division by zero\n"
          ]
        }
      ]
    },
    {
      "cell_type": "markdown",
      "source": [
        "### Q7.  How do you log information at different levels (INFO, ERROR, WARNING) in Python using the logging module?"
      ],
      "metadata": {
        "id": "0CZSsP-Rkr74"
      }
    },
    {
      "cell_type": "code",
      "source": [
        "import logging\n",
        "\n",
        "# Configure logging\n",
        "logging.basicConfig(\n",
        "    level=logging.DEBUG,  # Set the lowest level to DEBUG to capture all log levels\n",
        "    format=\"%(asctime)s - %(levelname)s - %(message)s\",\n",
        "    filename=\"app.log\",  # Log to a file\n",
        ")\n",
        "\n",
        "# Log messages at different levels\n",
        "logging.debug(\"This is a debug message\")   # Detailed information, for diagnosing issues\n",
        "logging.info(\"This is an info message\")    # General information about program execution\n",
        "logging.warning(\"This is a warning message\")  # Indication of a potential issue\n",
        "logging.error(\"This is an error message\")   # Error that prevents a part of the program from running\n",
        "logging.critical(\"This is a critical message\")  # Severe error, program may not be able to continue"
      ],
      "metadata": {
        "colab": {
          "base_uri": "https://localhost:8080/"
        },
        "id": "K7c3Ryi6pqep",
        "outputId": "91851a90-ce83-4756-be4f-0a6ba5170750"
      },
      "execution_count": 2,
      "outputs": [
        {
          "output_type": "stream",
          "name": "stderr",
          "text": [
            "WARNING:root:This is a warning message\n",
            "ERROR:root:This is an error message\n",
            "CRITICAL:root:This is a critical message\n"
          ]
        }
      ]
    },
    {
      "cell_type": "markdown",
      "source": [
        "### Q8. Write a program to handle a file opening error using exception handling."
      ],
      "metadata": {
        "id": "BIZELNlvkr_h"
      }
    },
    {
      "cell_type": "code",
      "source": [
        "try:\n",
        "  with open(\"test.txt\", \"r\") as f:\n",
        "    data = f.read()\n",
        "except FileNotFoundError:\n",
        "  #handling the case when the file doesn't exist\n",
        "  print(\"Error: The file doesn't exist\")\n",
        "except Exception as e:\n",
        "  print(e)\n"
      ],
      "metadata": {
        "colab": {
          "base_uri": "https://localhost:8080/"
        },
        "id": "6B644N6Wpr_h",
        "outputId": "51c97b0a-9d02-4aed-d3f5-c3a14877f3a3"
      },
      "execution_count": null,
      "outputs": [
        {
          "output_type": "stream",
          "name": "stdout",
          "text": [
            "Error: The file doesn't exist\n"
          ]
        }
      ]
    },
    {
      "cell_type": "markdown",
      "source": [
        "### Q9. How can you read a file line by line and store its content in a list in Python?"
      ],
      "metadata": {
        "id": "IZsmKbP5ksDA"
      }
    },
    {
      "cell_type": "code",
      "source": [
        "#first, we create a file and write to it\n",
        "with open(\"file.txt\", \"w\") as f:\n",
        "  f.write(\"This is my first line\\n\")\n",
        "  f.write(\"This is my second line\\n\")\n",
        "  f.write(\"This is my third line\\n\")\n",
        "  f.write(\"This is my fourth line\\n\")"
      ],
      "metadata": {
        "id": "6btA5YEm0qxy"
      },
      "execution_count": null,
      "outputs": []
    },
    {
      "cell_type": "code",
      "source": [
        "#now, we open the created file in read mode\n",
        "with open(\"file.txt\", \"r\") as f:\n",
        "  #readinf file line by line\n",
        "  line = f.readlines()\n",
        "print(line)\n"
      ],
      "metadata": {
        "colab": {
          "base_uri": "https://localhost:8080/"
        },
        "id": "nInYWo97psZh",
        "outputId": "b261ea28-8aa7-4669-ac1f-3e2353a35eb7"
      },
      "execution_count": null,
      "outputs": [
        {
          "output_type": "stream",
          "name": "stdout",
          "text": [
            "['This is my first line\\n', 'This is my second line\\n', 'This is my third line\\n', 'This is my fourth line\\n']\n"
          ]
        }
      ]
    },
    {
      "cell_type": "markdown",
      "source": [
        "### Q10. How can you append data to an existing file in Python?"
      ],
      "metadata": {
        "id": "kvprjnmgksIA"
      }
    },
    {
      "cell_type": "code",
      "source": [
        "# Open the file in append mode\n",
        "with open('example.txt', 'a') as file:\n",
        "    # Write the data to the file\n",
        "    file.write('This is the new data to append.\\n')"
      ],
      "metadata": {
        "id": "y4VdAYEbpsuJ"
      },
      "execution_count": null,
      "outputs": []
    },
    {
      "cell_type": "markdown",
      "source": [
        "### Q11. Write a Python program that uses a try-except block to handle an error when attempting to access a dictionary key that doesn't exist."
      ],
      "metadata": {
        "id": "qI8m4L5gksMx"
      }
    },
    {
      "cell_type": "code",
      "source": [
        "# Sample dictionary\n",
        "my_dict = {'name': 'SADIQUA', 'age': 24}\n",
        "\n",
        "# Trying to access a key that doesn't exist\n",
        "try:\n",
        "    value = my_dict['address']  # Key 'address' doesn't exist\n",
        "except KeyError as e:\n",
        "    print(f\"Error: The key {e} does not exist in the dictionary.\")"
      ],
      "metadata": {
        "colab": {
          "base_uri": "https://localhost:8080/"
        },
        "id": "Qj_NuYaSptGJ",
        "outputId": "63eb3d2d-cd92-4fd5-c870-0d05a297316b"
      },
      "execution_count": 3,
      "outputs": [
        {
          "output_type": "stream",
          "name": "stdout",
          "text": [
            "Error: The key 'address' does not exist in the dictionary.\n"
          ]
        }
      ]
    },
    {
      "cell_type": "markdown",
      "source": [
        "### Q12. Write a program that demonstrates using multiple except blocks to handle different types of exceptions."
      ],
      "metadata": {
        "id": "UPE3AfttksSJ"
      }
    },
    {
      "cell_type": "code",
      "source": [
        "# Function to demonstrate multiple exceptions\n",
        "def demo_multiple_exceptions():\n",
        "    try:\n",
        "        # Try dividing by zero\n",
        "        result = 10 / 0\n",
        "        print(result)\n",
        "\n",
        "    except ZeroDivisionError:\n",
        "        print(\"Error: You can't divide by zero!\")\n",
        "\n",
        "    try:\n",
        "        # Try accessing a key that doesn't exist in a dictionary\n",
        "        my_dict = {'name': 'SADIQUA', 'age': 24}\n",
        "        value = my_dict['address']\n",
        "        print(value)\n",
        "\n",
        "    except KeyError:\n",
        "        print(\"Error: The key does not exist in the dictionary!\")\n",
        "\n",
        "    try:\n",
        "        # Try converting a string to an integer\n",
        "        num = int('abc')\n",
        "        print(num)\n",
        "\n",
        "    except ValueError:\n",
        "        print(\"Error: Cannot convert a non-numeric string to an integer!\")\n",
        "\n",
        "# Calling the function\n",
        "demo_multiple_exceptions()"
      ],
      "metadata": {
        "colab": {
          "base_uri": "https://localhost:8080/"
        },
        "id": "CateijDUptjx",
        "outputId": "aa6edfd0-309a-46eb-bb49-f0940d046ac7"
      },
      "execution_count": null,
      "outputs": [
        {
          "output_type": "stream",
          "name": "stdout",
          "text": [
            "Error: You can't divide by zero!\n",
            "Error: The key does not exist in the dictionary!\n",
            "Error: Cannot convert a non-numeric string to an integer!\n"
          ]
        }
      ]
    },
    {
      "cell_type": "markdown",
      "source": [
        "### Q13.  How would you check if a file exists before attempting to read it in Python?"
      ],
      "metadata": {
        "id": "xJdxl80MksXh"
      }
    },
    {
      "cell_type": "code",
      "source": [
        "import os\n",
        "\n",
        "file_path = \"exam.txt\"\n",
        "\n",
        "if os.path.exists(file_path):  #checking the existence of the file\n",
        "    with open(file_path, \"r\") as file:\n",
        "        content = file.read() #attempting to read the file\n",
        "        print(content)\n",
        "else:\n",
        "    print(\"File does not exist.\")"
      ],
      "metadata": {
        "id": "5JD1yJ0tpt9J",
        "colab": {
          "base_uri": "https://localhost:8080/"
        },
        "outputId": "3a2057a8-0aec-4f74-c78b-fdcd3acf8314"
      },
      "execution_count": null,
      "outputs": [
        {
          "output_type": "stream",
          "name": "stdout",
          "text": [
            "File does not exist.\n"
          ]
        }
      ]
    },
    {
      "cell_type": "markdown",
      "source": [
        "### Q14. Write a program that uses the logging module to log both informational and error messages."
      ],
      "metadata": {
        "id": "Ain3lyfMksco"
      }
    },
    {
      "cell_type": "code",
      "source": [
        "import logging\n",
        "\n",
        "# Configure logging\n",
        "logging.basicConfig(\n",
        "    filename=\"app.log\",  # Log file name\n",
        "    level=logging.INFO,  # Set logging level\n",
        "    format=\"%(asctime)s - %(levelname)s - %(message)s\"  # Log format\n",
        ")\n",
        "\n",
        "# Log an informational message\n",
        "logging.info(\"This is an informational message.\")\n",
        "\n",
        "# Simulate an error and log it\n",
        "try:\n",
        "    x = 10 / 0  # This will cause a ZeroDivisionError\n",
        "except ZeroDivisionError as e:\n",
        "    logging.error(f\"An error occurred: {e}\")\n",
        "\n",
        "# Log another message\n",
        "logging.info(\"Program executed successfully.\")"
      ],
      "metadata": {
        "id": "Ouctl-WWpubC",
        "colab": {
          "base_uri": "https://localhost:8080/"
        },
        "outputId": "a90c56fe-f7a4-4f7c-f0be-17569c0c722d"
      },
      "execution_count": 15,
      "outputs": [
        {
          "output_type": "stream",
          "name": "stderr",
          "text": [
            "ERROR:root:An error occurred: division by zero\n"
          ]
        }
      ]
    },
    {
      "cell_type": "markdown",
      "source": [
        "### Q15. Write a Python program that prints the content of a file and handles the case when the file is empty."
      ],
      "metadata": {
        "id": "O149GzNeksh4"
      }
    },
    {
      "cell_type": "code",
      "source": [
        "import os\n",
        "\n",
        "file_path = \"example.txt\"  # Replace with your file name\n",
        "\n",
        "# Check if the file exists and is not empty before reading\n",
        "if os.path.exists(file_path) and os.path.getsize(file_path) > 0:\n",
        "    with open(file_path, \"r\") as file:\n",
        "        content = file.read()\n",
        "        print(\"File Content:\\n\", content)\n",
        "else:\n",
        "    print(\"The file is empty or does not exist.\")"
      ],
      "metadata": {
        "id": "H08R7WXbpu5S",
        "colab": {
          "base_uri": "https://localhost:8080/"
        },
        "outputId": "1dd7b806-8310-4072-cd52-d2ffddf17726"
      },
      "execution_count": null,
      "outputs": [
        {
          "output_type": "stream",
          "name": "stdout",
          "text": [
            "File Content:\n",
            " Hello, my name is SADIQUA! \n",
            "I am 24 years old \n",
            "I am studying Python\n",
            "I am studying Mathematics \n",
            "\n"
          ]
        }
      ]
    },
    {
      "cell_type": "markdown",
      "source": [
        "### Q16. Demonstrate how to use memory profiling to check the memory usage of a small program."
      ],
      "metadata": {
        "id": "yDJHYH7hksno"
      }
    },
    {
      "cell_type": "code",
      "source": [
        "pip install memory_profiler"
      ],
      "metadata": {
        "colab": {
          "base_uri": "https://localhost:8080/"
        },
        "id": "_GwSQXwzoyy8",
        "outputId": "5f407396-2650-4ac9-fe9f-228d273586d5"
      },
      "execution_count": 9,
      "outputs": [
        {
          "output_type": "stream",
          "name": "stdout",
          "text": [
            "Collecting memory_profiler\n",
            "  Downloading memory_profiler-0.61.0-py3-none-any.whl.metadata (20 kB)\n",
            "Requirement already satisfied: psutil in /usr/local/lib/python3.11/dist-packages (from memory_profiler) (5.9.5)\n",
            "Downloading memory_profiler-0.61.0-py3-none-any.whl (31 kB)\n",
            "Installing collected packages: memory_profiler\n",
            "Successfully installed memory_profiler-0.61.0\n"
          ]
        }
      ]
    },
    {
      "cell_type": "code",
      "source": [
        "from memory_profiler import memory_usage\n",
        "import time\n",
        "\n",
        "# Start memory tracking\n",
        "mem_before = memory_usage()[0]\n",
        "\n",
        "# Simulate some memory usage\n",
        "numbers = [i for i in range(10000000)]  # Create a large list\n",
        "time.sleep(1)  # Simulate some processing delay\n",
        "\n",
        "# Track memory after list creation\n",
        "mem_after = memory_usage()[0]\n",
        "\n",
        "# Print memory usage difference\n",
        "print(f\"Memory used: {mem_after - mem_before} MiB\")"
      ],
      "metadata": {
        "id": "GFF-e19cpv1J",
        "colab": {
          "base_uri": "https://localhost:8080/"
        },
        "outputId": "c863d155-335f-4ae0-f025-ce2e7389a029"
      },
      "execution_count": 12,
      "outputs": [
        {
          "output_type": "stream",
          "name": "stdout",
          "text": [
            "Memory used: 381.8359375 MiB\n"
          ]
        }
      ]
    },
    {
      "cell_type": "markdown",
      "source": [
        "### Q17. Write a Python program to create and write a list of numbers to a file, one number per line."
      ],
      "metadata": {
        "id": "sau0jYEykss5"
      }
    },
    {
      "cell_type": "code",
      "source": [
        "#defining the list of numbers\n",
        "numbers = [10, 20, 30, 40, 50]\n",
        "\n",
        "#opening the file in write mode\n",
        "file = open(\"numbers.txt\", \"w\")\n",
        "\n",
        "#writing each number to the file, one number per line\n",
        "for i in numbers :\n",
        "  file.write(f\" {i} \\n\")\n",
        "\n",
        "#closing the file\n",
        "file.close()"
      ],
      "metadata": {
        "id": "QUevgOvwpwTh"
      },
      "execution_count": 7,
      "outputs": []
    },
    {
      "cell_type": "markdown",
      "source": [
        "### Q18. How would you implement a basic logging setup that logs to a file with rotation after 1MB?\n"
      ],
      "metadata": {
        "id": "SsEmfK-nksxp"
      }
    },
    {
      "cell_type": "code",
      "source": [
        "import logging\n",
        "from logging.handlers import RotatingFileHandler\n",
        "\n",
        "# Configure logging\n",
        "log_file = \"app.log\"\n",
        "max_size = 1 * 1024 * 1024  # 1 MB\n",
        "backup_count = 3  # Keep up to 3 backup log files\n",
        "\n",
        "# Set up the rotating file handler\n",
        "handler = RotatingFileHandler(log_file, maxBytes=max_size, backupCount=backup_count)\n",
        "\n",
        "# Define the logging format\n",
        "formatter = logging.Formatter(\"%(asctime)s - %(levelname)s - %(message)s\")\n",
        "handler.setFormatter(formatter)\n",
        "\n",
        "# Set up the logger\n",
        "logger = logging.getLogger(\"MyLogger\")\n",
        "logger.setLevel(logging.INFO)  # Log INFO and above\n",
        "logger.addHandler(handler)\n",
        "\n",
        "# Example usage\n",
        "for i in range(10):\n",
        "    logger.info(f\"This is log message {i}\")\n",
        "\n",
        "print(f\"Logging to {log_file}. Check the file for logs.\")"
      ],
      "metadata": {
        "id": "wvDwO725pwvC",
        "colab": {
          "base_uri": "https://localhost:8080/"
        },
        "outputId": "2a895e23-1efe-45bd-cffa-8fd560c8562a"
      },
      "execution_count": null,
      "outputs": [
        {
          "output_type": "stream",
          "name": "stderr",
          "text": [
            "INFO:MyLogger:This is log message 0\n",
            "INFO:MyLogger:This is log message 1\n",
            "INFO:MyLogger:This is log message 2\n",
            "INFO:MyLogger:This is log message 3\n",
            "INFO:MyLogger:This is log message 4\n",
            "INFO:MyLogger:This is log message 5\n",
            "INFO:MyLogger:This is log message 6\n",
            "INFO:MyLogger:This is log message 7\n",
            "INFO:MyLogger:This is log message 8\n",
            "INFO:MyLogger:This is log message 9\n"
          ]
        },
        {
          "output_type": "stream",
          "name": "stdout",
          "text": [
            "Logging to app.log. Check the file for logs.\n"
          ]
        }
      ]
    },
    {
      "cell_type": "markdown",
      "source": [
        "### Q19. Write a program that handles both IndexError and KeyError using a try-except block."
      ],
      "metadata": {
        "id": "9lQmb5AFks2p"
      }
    },
    {
      "cell_type": "code",
      "source": [
        "\n",
        "my_list = [1, 2, 3]\n",
        "my_dict = {\"name\": \"SADIQUA\", \"age\": 24}\n",
        "\n",
        "try:\n",
        "    # Attempting to access an invalid index in the list\n",
        "    print(my_list[5])  # This will raise IndexError\n",
        "except IndexError as e:\n",
        "    print(f\"IndexError: {e}\")\n",
        "\n",
        "try:\n",
        "    # Attempting to access a missing dictionary key\n",
        "    print(my_dict[\"address\"])  # This will raise KeyError\n",
        "except KeyError as e:\n",
        "    print(f\"KeyError: {e}\")\n",
        "\n"
      ],
      "metadata": {
        "id": "L4OAfhjNpxMa",
        "colab": {
          "base_uri": "https://localhost:8080/"
        },
        "outputId": "12630546-0262-4d50-c05a-28202c8fecae"
      },
      "execution_count": null,
      "outputs": [
        {
          "output_type": "stream",
          "name": "stdout",
          "text": [
            "IndexError: list index out of range\n",
            "KeyError: 'address'\n"
          ]
        }
      ]
    },
    {
      "cell_type": "markdown",
      "source": [
        "### Q20. How would you open a file and read its contents using a context manager in Python?"
      ],
      "metadata": {
        "id": "6oqU5hUPks7I"
      }
    },
    {
      "cell_type": "code",
      "source": [
        "'''\n",
        "In Python, we can use a context manager to open and read a file.\n",
        "The most common context manager for file handling is the with statement,\n",
        "which ensures that the file is properly opened and closed, even if an error occurs during reading.\n",
        "\n",
        "Here's how we can open a file and read its contents using a context manager:\n",
        "'''\n",
        "\n",
        "# Using 'with' to automatically close the file after reading\n",
        "with open(\"example.txt\", 'r') as file:\n",
        "    content = file.read()  # Read the entire content of the file\n",
        "    print(content)  # Print the content of the file"
      ],
      "metadata": {
        "id": "Ww-k0Ra3pxka",
        "colab": {
          "base_uri": "https://localhost:8080/"
        },
        "outputId": "6d06f3a2-9501-490b-c3bc-e20a1468578e"
      },
      "execution_count": null,
      "outputs": [
        {
          "output_type": "stream",
          "name": "stdout",
          "text": [
            "Hello, my name is SADIQUA! \n",
            "I am 24 years old \n",
            "I am studying Python\n",
            "I am studying Mathematics \n",
            "\n"
          ]
        }
      ]
    },
    {
      "cell_type": "markdown",
      "source": [
        "### Q21. Write a Python program that reads a file and prints the number of occurrences of a specific word."
      ],
      "metadata": {
        "id": "oqqPt3SFktAQ"
      }
    },
    {
      "cell_type": "code",
      "source": [
        "#Reading the file and count the occurrences of a word\n",
        "word_to_count = \"am\"  # The word to count\n",
        "\n",
        "with open(\"example.txt\", \"r\") as file:\n",
        "    content = file.read()\n",
        "    word_count = content.split().count(word_to_count)\n",
        "\n",
        "#Print the output\n",
        "print(f\"'{word_to_count}' appears {word_count} times in the file.\")"
      ],
      "metadata": {
        "id": "3_umnZwtpyD5",
        "colab": {
          "base_uri": "https://localhost:8080/"
        },
        "outputId": "b78aceac-a434-4011-fd7b-d40d6775ecf5"
      },
      "execution_count": null,
      "outputs": [
        {
          "output_type": "stream",
          "name": "stdout",
          "text": [
            "'am' appears 3 times in the file.\n"
          ]
        }
      ]
    },
    {
      "cell_type": "markdown",
      "source": [
        "### Q22. How can you check if a file is empty before attempting to read its contents?"
      ],
      "metadata": {
        "id": "2LZPZw_iktE5"
      }
    },
    {
      "cell_type": "code",
      "source": [
        "import os\n",
        "\n",
        "file_path = \"example.txt\"\n",
        "\n",
        "if os.path.getsize(file_path) == 0:\n",
        "    print(\"The file is empty.\")\n",
        "else:\n",
        "    with open(file_path, \"r\") as file:\n",
        "        content = file.read()\n",
        "        print(\"File content:\\n\",content)"
      ],
      "metadata": {
        "id": "VULLkmkWploI",
        "colab": {
          "base_uri": "https://localhost:8080/"
        },
        "outputId": "f74f02a6-7a59-4dce-e1d5-a6d4150f859b"
      },
      "execution_count": null,
      "outputs": [
        {
          "output_type": "stream",
          "name": "stdout",
          "text": [
            "File content:\n",
            " Hello, my name is SADIQUA! \n",
            "I am 24 years old \n",
            "I am studying Python\n",
            "I am studying Mathematics \n",
            "\n"
          ]
        }
      ]
    },
    {
      "cell_type": "markdown",
      "source": [
        "### Q23. Write a Python program that writes to a log file when an error occurs during file handling."
      ],
      "metadata": {
        "id": "OKtswCnLktJ4"
      }
    },
    {
      "cell_type": "code",
      "source": [
        "import logging\n",
        "\n",
        "# Configure logging to write errors to a log file\n",
        "logging.basicConfig(filename=\"error.log\", level=logging.ERROR,\n",
        "                    format=\"%(asctime)s - %(levelname)s - %(message)s\")\n",
        "\n",
        "file_path = \"example4.txt\"\n",
        "\n",
        "try:\n",
        "    # Attempt to open and read a file\n",
        "    with open(file_path, \"r\") as file:\n",
        "        content = file.read()\n",
        "        print(\"File content:\\n\", content)\n",
        "except FileNotFoundError:\n",
        "    logging.error(f\"File '{file_path}' not found.\")\n",
        "    print(\"Error: The file does not exist. Check 'error.log' for details.\")\n",
        "except Exception as e:\n",
        "    logging.error(f\"An unexpected error occurred: {e}\")\n",
        "    print(\"An unexpected error occurred. Check 'error.log' for details.\")"
      ],
      "metadata": {
        "id": "U6Di5Sbkpivw",
        "colab": {
          "base_uri": "https://localhost:8080/"
        },
        "outputId": "a82ff42a-0726-4a5a-e8bd-4cdf05fccb94"
      },
      "execution_count": null,
      "outputs": [
        {
          "output_type": "stream",
          "name": "stderr",
          "text": [
            "ERROR:root:File 'example4.txt' not found.\n"
          ]
        },
        {
          "output_type": "stream",
          "name": "stdout",
          "text": [
            "Error: The file does not exist. Check 'error.log' for details.\n"
          ]
        }
      ]
    }
  ]
}